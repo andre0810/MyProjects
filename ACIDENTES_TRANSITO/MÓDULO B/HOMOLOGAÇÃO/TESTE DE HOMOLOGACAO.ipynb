{
 "cells": [
  {
   "cell_type": "markdown",
   "id": "f4945f06",
   "metadata": {},
   "source": [
    "TESTE DE HOMOLOGAÇÃO"
   ]
  },
  {
   "cell_type": "code",
   "execution_count": 1,
   "id": "9d600355",
   "metadata": {},
   "outputs": [],
   "source": [
    "#Importação da biblioteca de manipulação de dataframs o pandas\n",
    "import pandas as pd"
   ]
  },
  {
   "cell_type": "code",
   "execution_count": 2,
   "id": "080cb849",
   "metadata": {},
   "outputs": [],
   "source": [
    "#Carrega os dados da Fonte de Dados que é utilizada o Power BI\n",
    "do1 = pd.read_csv('../../FONTE DE DADOS/BOLETIM/si-bol-2019.csv', encoding=\"ANSI\", delimiter=';')\n",
    "do2 = pd.read_csv('../../FONTE DE DADOS/BOLETIM/si-bol-2020.csv', encoding=\"ANSI\", delimiter=';')\n",
    "do3 = pd.read_csv('../../FONTE DE DADOS/BOLETIM/si-bol-2021.csv', encoding=\"ANSI\", delimiter=';')\n",
    "dl1 = pd.read_csv('../../FONTE DE DADOS/LOGRADOURO/si-log-2019.csv', encoding=\"ANSI\", delimiter=';')\n",
    "dl2 = pd.read_csv('../../FONTE DE DADOS/LOGRADOURO/si-log-2020.csv', encoding=\"ANSI\", delimiter=';')\n",
    "dl3 = pd.read_csv('../../FONTE DE DADOS/LOGRADOURO/si-log-2021.csv', encoding=\"ANSI\", delimiter=';')\n",
    "dv1 = pd.read_csv('../../FONTE DE DADOS/VEICULO/si-veic-2019.csv', encoding=\"ANSI\", delimiter=';')\n",
    "dv2 = pd.read_csv('../../FONTE DE DADOS/VEICULO/si-veic-2020.csv', encoding=\"ANSI\", delimiter=';')\n",
    "dv3 = pd.read_csv('../../FONTE DE DADOS/VEICULO/si-veic-2021.csv', encoding=\"ANSI\", delimiter=';')"
   ]
  },
  {
   "cell_type": "code",
   "execution_count": 3,
   "id": "15e29a23",
   "metadata": {},
   "outputs": [],
   "source": [
    "#Unifica as bases de dados de 2019, 2020 e 2021 dividido pelo assunto.\n",
    "dados_ocorrencia = pd.concat([do1, do2, do3], axis=0)\n",
    "dados_logradouro = pd.concat([dl1, dl2, dl3], axis=0)\n",
    "dados_veiculo = pd.concat([dv1, dv2, dv3], axis=0)"
   ]
  },
  {
   "cell_type": "code",
   "execution_count": 4,
   "id": "e6fc710c",
   "metadata": {},
   "outputs": [
    {
     "name": "stdout",
     "output_type": "stream",
     "text": [
      "(35088, 23)\n",
      "(46194, 16)\n",
      "(64469, 11)\n"
     ]
    }
   ],
   "source": [
    "#Verificação do tamanho dos datasets unidos\n",
    "print(dados_ocorrencia.shape)\n",
    "print(dados_logradouro.shape)\n",
    "print(dados_veiculo.shape)"
   ]
  },
  {
   "cell_type": "code",
   "execution_count": 5,
   "id": "63b58705",
   "metadata": {},
   "outputs": [],
   "source": [
    "#retirando o espaço em branco nas colunas\n",
    "colunas = dados_ocorrencia.columns.tolist()\n",
    "colunas_sem_espaco = [coluna.strip() for coluna in colunas]\n",
    "dados_ocorrencia.columns = colunas_sem_espaco\n",
    "colunas = dados_logradouro.columns.tolist()\n",
    "colunas_sem_espaco = [coluna.strip() for coluna in colunas]\n",
    "dados_logradouro.columns = colunas_sem_espaco\n",
    "colunas = dados_veiculo.columns.tolist()\n",
    "colunas_sem_espaco = [coluna.strip() for coluna in colunas]\n",
    "dados_veiculo.columns = colunas_sem_espaco"
   ]
  },
  {
   "cell_type": "code",
   "execution_count": 6,
   "id": "c349373c",
   "metadata": {},
   "outputs": [],
   "source": [
    "#Função para tirar o espaçamento em branco dos dados do tipo string\n",
    "dados_ocorrencia = dados_ocorrencia.apply(lambda x: x.str.strip() if x.dtype == \"object\" else x)\n",
    "dados_logradouro = dados_logradouro.apply(lambda x: x.str.strip() if x.dtype == \"object\" else x)\n",
    "dados_veiculo = dados_veiculo.apply(lambda x: x.str.strip() if x.dtype == \"object\" else x)"
   ]
  },
  {
   "cell_type": "code",
   "execution_count": 7,
   "id": "da0d685a",
   "metadata": {},
   "outputs": [
    {
     "data": {
      "text/plain": [
       "0    01/01/2019 01:40\n",
       "1    01/01/2019 02:46\n",
       "2    01/01/2019 02:19\n",
       "3    01/01/2019 03:18\n",
       "4    01/01/2019 04:26\n",
       "Name: DATA HORA_BOLETIM, dtype: object"
      ]
     },
     "execution_count": 7,
     "metadata": {},
     "output_type": "execute_result"
    }
   ],
   "source": [
    "#Verificando o tipo de campo que está a coluna DATA HORA_BOLETIM\n",
    "dados_ocorrencia['DATA HORA_BOLETIM'].head()"
   ]
  },
  {
   "cell_type": "code",
   "execution_count": 8,
   "id": "ae234465",
   "metadata": {},
   "outputs": [],
   "source": [
    "#Convertendo o campo de DATA HORA_BOLETIM do tipo object para datetime\n",
    "dados_ocorrencia['DATA HORA_BOLETIM'] = pd.to_datetime(dados_ocorrencia['DATA HORA_BOLETIM'])"
   ]
  },
  {
   "cell_type": "code",
   "execution_count": 9,
   "id": "cb4a2ec3",
   "metadata": {},
   "outputs": [
    {
     "name": "stdout",
     "output_type": "stream",
     "text": [
      "13342\n"
     ]
    }
   ],
   "source": [
    "#Contagem de quantas linhas tem no dataset de ocorrências no ano de 2019\n",
    "print(len(dados_ocorrencia[dados_ocorrencia['DATA HORA_BOLETIM'].dt.year == 2019]))"
   ]
  },
  {
   "cell_type": "code",
   "execution_count": 10,
   "id": "a0b5a625",
   "metadata": {},
   "outputs": [
    {
     "name": "stdout",
     "output_type": "stream",
     "text": [
      "10624\n"
     ]
    }
   ],
   "source": [
    "#Contagem de quantas linhas tem no dataset de ocorrências no ano de 2020\n",
    "print(len(dados_ocorrencia[dados_ocorrencia['DATA HORA_BOLETIM'].dt.year == 2020]))"
   ]
  },
  {
   "cell_type": "code",
   "execution_count": 11,
   "id": "367cf6a6",
   "metadata": {},
   "outputs": [
    {
     "name": "stdout",
     "output_type": "stream",
     "text": [
      "11122\n"
     ]
    }
   ],
   "source": [
    "#Contagem de quantas linhas tem no dataset de ocorrências no ano de 2021\n",
    "print(len(dados_ocorrencia[dados_ocorrencia['DATA HORA_BOLETIM'].dt.year == 2021]))"
   ]
  },
  {
   "cell_type": "code",
   "execution_count": 12,
   "id": "f030bf0f",
   "metadata": {},
   "outputs": [
    {
     "name": "stdout",
     "output_type": "stream",
     "text": [
      "ABALROAMENTO COM VITIMA                               15900\n",
      "CHOQUE MECANICO COM VITIMA                             6170\n",
      "COLISAO DE VEICULOS COM VITIMA                         5124\n",
      "ATROPELAMENTO DE PESSOA SEM VITIMA FATAL               3651\n",
      "CAPOTAMENTO/TOMBAMENTO COM VITIMA                      2560\n",
      "QUEDA DE PESSOA DE VEICULO                             1015\n",
      "OUTROS COM VITIMA                                       376\n",
      "ATROPELAMENTO DE ANIMAL COM VITIMA                      134\n",
      "ATROPELAMENTO DE PESSOA COM VITIMA FATAL                112\n",
      "QUEDA DE VEICULO COM VITIMA                              34\n",
      "QUEDA E/OU VAZAMENTO DE CARGA DE VEICULO C/ VITIMA       11\n",
      "CAPOTAMENTO/TOMBAMENTO SEM VITIMA                         1\n",
      "Name: DESC_TIPO_ACIDENTE, dtype: int64\n"
     ]
    }
   ],
   "source": [
    "#Contagem de tipos de acidentes por ocorrências\n",
    "print(dados_ocorrencia['DESC_TIPO_ACIDENTE'].value_counts())"
   ]
  },
  {
   "cell_type": "code",
   "execution_count": 13,
   "id": "9949c34e",
   "metadata": {},
   "outputs": [
    {
     "name": "stdout",
     "output_type": "stream",
     "text": [
      "CENTRO-SUL    5634\n",
      "PAMPULHA      4693\n",
      "OESTE         4041\n",
      "NOROESTE      3971\n",
      "NORDESTE      3581\n",
      "BARREIRO      3024\n",
      "VENDA NOVA    2955\n",
      "LESTE         2770\n",
      "NORTE         2753\n",
      "              1666\n",
      "Name: DESC_REGIONAL, dtype: int64\n"
     ]
    }
   ],
   "source": [
    "#Contagem de regionais por ocorrências\n",
    "print(dados_ocorrencia['DESC_REGIONAL'].value_counts())"
   ]
  },
  {
   "cell_type": "code",
   "execution_count": 14,
   "id": "852a0391",
   "metadata": {},
   "outputs": [
    {
     "name": "stdout",
     "output_type": "stream",
     "text": [
      "0      33317\n",
      "60       947\n",
      "40       279\n",
      "70       258\n",
      "30       156\n",
      "110       73\n",
      "80        50\n",
      "50         7\n",
      "20         1\n",
      "Name: VELOCIDADE_PERMITIDA, dtype: int64\n"
     ]
    }
   ],
   "source": [
    "#Contagem de velocidade permitida por ocorrências\n",
    "print(dados_ocorrencia['VELOCIDADE_PERMITIDA'].value_counts())"
   ]
  },
  {
   "cell_type": "code",
   "execution_count": 15,
   "id": "24b36a65",
   "metadata": {},
   "outputs": [
    {
     "name": "stdout",
     "output_type": "stream",
     "text": [
      "NÃO    34792\n",
      "SIM      296\n",
      "Name: INDICADOR_FATALIDADE, dtype: int64\n"
     ]
    }
   ],
   "source": [
    "#Contagem de indicador de fatalidade por ocorrências\n",
    "print(dados_ocorrencia['INDICADOR_FATALIDADE'].value_counts())"
   ]
  },
  {
   "cell_type": "code",
   "execution_count": 16,
   "id": "9d2fdd1b",
   "metadata": {},
   "outputs": [
    {
     "name": "stdout",
     "output_type": "stream",
     "text": [
      "POLICIA MILITAR    33136\n",
      "POLICIA CIVIL       1835\n",
      "NI                   117\n",
      "Name: ORIGEM_BOLETIM, dtype: int64\n"
     ]
    }
   ],
   "source": [
    "#Contagem de origem por ocorrências\n",
    "print(dados_ocorrencia['ORIGEM_BOLETIM'].value_counts())"
   ]
  },
  {
   "cell_type": "code",
   "execution_count": 17,
   "id": "d874b9f6",
   "metadata": {},
   "outputs": [
    {
     "name": "stdout",
     "output_type": "stream",
     "text": [
      "NAO INFORMADO    17708\n",
      "BOM              14912\n",
      "CHUVA             1623\n",
      "NUBLADO            829\n",
      "NEBLINA             16\n",
      "Name: DESC_TEMPO, dtype: int64\n"
     ]
    }
   ],
   "source": [
    "#Contagem de tempo por ocorrências\n",
    "print(dados_ocorrencia['DESC_TEMPO'].value_counts())"
   ]
  },
  {
   "cell_type": "code",
   "execution_count": 18,
   "id": "5a197d7e",
   "metadata": {},
   "outputs": [
    {
     "name": "stdout",
     "output_type": "stream",
     "text": [
      "ANEL RODOVIARIO CELSO MELLO AZEVEDO    2458\n",
      "CRISTIANO MACHADO                      1832\n",
      "PRESIDENTE ANTONIO CARLOS              1141\n",
      "DO CONTORNO                            1059\n",
      "AMAZONAS                                867\n",
      "TERESA CRISTINA                         701\n",
      "DOS ANDRADAS                            553\n",
      "AFONSO PENA                             473\n",
      "DOM PEDRO II                            469\n",
      "VILARINHO                               406\n",
      "Name: nome_logradouro, dtype: int64\n"
     ]
    }
   ],
   "source": [
    "#Contagem dos top 10 logradouros sem o tipo de logradouro (ex. ROD, AVE, RUA)\n",
    "print(dados_logradouro['nome_logradouro'].value_counts().nlargest(10))"
   ]
  },
  {
   "cell_type": "code",
   "execution_count": 19,
   "id": "0a8c6f10",
   "metadata": {},
   "outputs": [
    {
     "name": "stdout",
     "output_type": "stream",
     "text": [
      "10\n"
     ]
    }
   ],
   "source": [
    "#Contagem distinta das quantidade de regionais considerando as não informadas\n",
    "print(dados_ocorrencia['DESC_REGIONAL'].nunique())"
   ]
  },
  {
   "cell_type": "code",
   "execution_count": 20,
   "id": "60400313",
   "metadata": {},
   "outputs": [
    {
     "name": "stdout",
     "output_type": "stream",
     "text": [
      "9\n"
     ]
    }
   ],
   "source": [
    "#Contagem distinta das quantidade de regionais excluindo as não informadas\n",
    "dados_ocorrencia_regional = dados_ocorrencia[dados_ocorrencia['COD_REGIONAL'] != 0]\n",
    "print(dados_ocorrencia_regional['DESC_REGIONAL'].nunique())"
   ]
  },
  {
   "cell_type": "code",
   "execution_count": 21,
   "id": "5afd28d4",
   "metadata": {},
   "outputs": [
    {
     "name": "stdout",
     "output_type": "stream",
     "text": [
      "454\n"
     ]
    }
   ],
   "source": [
    "#Contagem distinta das quantidade de bairros\n",
    "print(dados_logradouro['Nº_bairro'].nunique())"
   ]
  },
  {
   "cell_type": "code",
   "execution_count": 22,
   "id": "c3be5826",
   "metadata": {},
   "outputs": [
    {
     "name": "stdout",
     "output_type": "stream",
     "text": [
      "5303\n"
     ]
    }
   ],
   "source": [
    "#Contagem distinta das quantidade de logradouros\n",
    "print(dados_logradouro['Nº_logradouro'].nunique())"
   ]
  },
  {
   "cell_type": "code",
   "execution_count": 23,
   "id": "75ea9841",
   "metadata": {},
   "outputs": [
    {
     "name": "stdout",
     "output_type": "stream",
     "text": [
      "AUTOMOVEL      30249\n",
      "MOTOCICLETA    26506\n",
      "ONIBUS          2171\n",
      "BICICLETA       1350\n",
      "CAMINHONETE     1348\n",
      "CAMINHAO        1114\n",
      "CAMIONETA        452\n",
      "Name: descricao_especie, dtype: int64\n"
     ]
    }
   ],
   "source": [
    "#Contagem do top 7 espécies de veiculo\n",
    "print(dados_veiculo['descricao_especie'].value_counts().nlargest(7))"
   ]
  },
  {
   "cell_type": "code",
   "execution_count": 24,
   "id": "0c127fe0",
   "metadata": {},
   "outputs": [
    {
     "name": "stdout",
     "output_type": "stream",
     "text": [
      "EM MOVIMENTO     58337\n",
      "PARADO            4712\n",
      "ESTACIONADO        863\n",
      "                   497\n",
      "NÃO INFORMADO       60\n",
      "Name: desc_situacao, dtype: int64\n"
     ]
    }
   ],
   "source": [
    "#Contagem de situação por veiculos\n",
    "print(dados_veiculo['desc_situacao'].value_counts())"
   ]
  },
  {
   "cell_type": "code",
   "execution_count": 25,
   "id": "2802780b",
   "metadata": {},
   "outputs": [
    {
     "name": "stdout",
     "output_type": "stream",
     "text": [
      "PARTICULAR            55874\n",
      "ALUGUEL                4973\n",
      "NAO INFORMADO          2767\n",
      "MISSAO DIPLOMATICA      432\n",
      "OFICIAL                 357\n",
      "APRENDIZAGEM             66\n",
      "Name: descricao_categoria, dtype: int64\n"
     ]
    }
   ],
   "source": [
    "#Contagem de categoria por veiculos\n",
    "print(dados_veiculo['descricao_categoria'].value_counts())"
   ]
  },
  {
   "cell_type": "code",
   "execution_count": 26,
   "id": "a501fd13",
   "metadata": {},
   "outputs": [
    {
     "name": "stdout",
     "output_type": "stream",
     "text": [
      "NÃO SE APLICA          31294\n",
      "AMBULANCIA             14432\n",
      "DISPENSOU ATENDIMEN    10869\n",
      "NÃO INFORMADO           5103\n",
      "TERCEIROS               1232\n",
      "VEICULO ENVOLVIDO        831\n",
      "VIATURA PMMG             708\n",
      "Name: desc_tipo_socorro, dtype: int64\n"
     ]
    }
   ],
   "source": [
    "#Contagem de tipo de socorro por veiculos\n",
    "print(dados_veiculo['desc_tipo_socorro'].value_counts())"
   ]
  },
  {
   "cell_type": "code",
   "execution_count": 27,
   "id": "8931703f",
   "metadata": {},
   "outputs": [
    {
     "name": "stdout",
     "output_type": "stream",
     "text": [
      "      desc_tipo_socorro descricao_especie  count\n",
      "60        NÃO SE APLICA         AUTOMOVEL  24077\n",
      "12           AMBULANCIA       MOTOCICLETA  11561\n",
      "32  DISPENSOU ATENDIMEN       MOTOCICLETA   8137\n",
      "51        NÃO INFORMADO       MOTOCICLETA   2512\n",
      "74        NÃO SE APLICA       MOTOCICLETA   2122\n",
      "21  DISPENSOU ATENDIMEN         AUTOMOVEL   2099\n",
      "77        NÃO SE APLICA            ONIBUS   2091\n",
      "38        NÃO INFORMADO         AUTOMOVEL   1922\n",
      "0            AMBULANCIA         AUTOMOVEL   1802\n",
      "65        NÃO SE APLICA       CAMINHONETE   1099\n"
     ]
    }
   ],
   "source": [
    "#Aqui temos a combinação das colunas de tipo de socorro com a espécie de veiculos ordenado pela frequência de vezes que \n",
    "#aparece na visualização.\n",
    "dados_filtrados = dados_veiculo.groupby(['desc_tipo_socorro','descricao_especie']).size().reset_index(name = 'count')\n",
    "print(dados_filtrados.sort_values(by='count', ascending=False).head(10))"
   ]
  }
 ],
 "metadata": {
  "kernelspec": {
   "display_name": "Python 3 (ipykernel)",
   "language": "python",
   "name": "python3"
  },
  "language_info": {
   "codemirror_mode": {
    "name": "ipython",
    "version": 3
   },
   "file_extension": ".py",
   "mimetype": "text/x-python",
   "name": "python",
   "nbconvert_exporter": "python",
   "pygments_lexer": "ipython3",
   "version": "3.9.7"
  }
 },
 "nbformat": 4,
 "nbformat_minor": 5
}
