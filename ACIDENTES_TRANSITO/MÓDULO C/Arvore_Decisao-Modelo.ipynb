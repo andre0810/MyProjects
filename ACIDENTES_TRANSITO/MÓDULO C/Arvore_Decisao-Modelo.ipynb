{
 "cells": [
  {
   "cell_type": "code",
   "execution_count": 1,
   "id": "94325c0e",
   "metadata": {},
   "outputs": [],
   "source": [
    "#Importação das bibliotecas de dados\n",
    "import pandas as pd\n",
    "from sklearn.tree import DecisionTreeClassifier\n",
    "from sklearn.model_selection import train_test_split\n",
    "from sklearn.metrics import accuracy_score\n",
    "from sklearn.preprocessing import StandardScaler\n",
    "from sklearn.metrics import confusion_matrix\n",
    "import matplotlib.pyplot as plt\n",
    "import numpy as np"
   ]
  },
  {
   "cell_type": "code",
   "execution_count": 2,
   "id": "9c277756",
   "metadata": {},
   "outputs": [],
   "source": [
    "#Importação dos dados\n",
    "dados_ocorrencia = pd.read_csv('FONTE DE DADOS/Ocorrencias.csv', encoding='UTF-8', delimiter=';')\n",
    "dados_veiculo = pd.read_csv('FONTE DE DADOS/Veiculo.csv', encoding='UTF-8', delimiter=';')"
   ]
  },
  {
   "cell_type": "code",
   "execution_count": 3,
   "id": "ea8963cf",
   "metadata": {},
   "outputs": [],
   "source": [
    "#Retirando o espaço em branco nas colunas\n",
    "colunas = dados_ocorrencia.columns.tolist()\n",
    "colunas_sem_espaco = [coluna.strip() for coluna in colunas]\n",
    "dados_ocorrencia.columns = colunas_sem_espaco\n",
    "colunas = dados_veiculo.columns.tolist()\n",
    "colunas_sem_espaco = [coluna.strip() for coluna in colunas]\n",
    "dados_veiculo.columns = colunas_sem_espaco"
   ]
  },
  {
   "cell_type": "code",
   "execution_count": 4,
   "id": "e7fa943f",
   "metadata": {},
   "outputs": [],
   "source": [
    "#Função para tirar o espaçamento em branco dos dados do tipo string\n",
    "dados_ocorrencia = dados_ocorrencia.apply(lambda x: x.str.strip() if x.dtype == \"object\" else x)\n",
    "dados_veiculo = dados_veiculo.apply(lambda x: x.str.strip() if x.dtype == \"object\" else x)"
   ]
  },
  {
   "cell_type": "code",
   "execution_count": 5,
   "id": "d4b07ed2",
   "metadata": {},
   "outputs": [
    {
     "name": "stdout",
     "output_type": "stream",
     "text": [
      "(35088, 14)\n",
      "(64469, 7)\n"
     ]
    }
   ],
   "source": [
    "print(dados_ocorrencia.shape)\n",
    "print(dados_veiculo.shape)"
   ]
  },
  {
   "cell_type": "code",
   "execution_count": 6,
   "id": "af49a13a",
   "metadata": {},
   "outputs": [
    {
     "name": "stdout",
     "output_type": "stream",
     "text": [
      "       NUMERO_BOLETIM DATA_HORA_BOLETIM_x     DATA_INCLUSAO COD_TIPO_ACIDENTE  \\\n",
      "0  2019-000100286-001    01/01/2019 22:30  01/01/2019 22:49            H01002   \n",
      "1  2019-000100286-001    01/01/2019 22:30  01/01/2019 22:49            H01002   \n",
      "2  2019-027792628-001    12/06/2019 22:07  12/06/2019 22:43            H01002   \n",
      "3  2019-027792628-001    12/06/2019 22:07  12/06/2019 22:43            H01002   \n",
      "4  2019-028025810-001    14/06/2019 07:40  14/06/2019 08:48            H01002   \n",
      "\n",
      "   COD_TEMPO  COD_PAVIMENTO  COD_REGIONAL  COD_ORIGEM  COORDENADA_X  \\\n",
      "0          1              1             0           1           0.0   \n",
      "1          1              1             0           1           0.0   \n",
      "2          1              1             0           1           0.0   \n",
      "3          1              1             0           1           0.0   \n",
      "4          1              1             0           1           0.0   \n",
      "\n",
      "   COORDENADA_Y  COD_VELOCIDADE PERMITIDA  COD_INDICADOR_FATALIDADE  \\\n",
      "0           0.0                         0                         0   \n",
      "1           0.0                         0                         0   \n",
      "2           0.0                         0                         0   \n",
      "3           0.0                         0                         0   \n",
      "4           0.0                         0                         0   \n",
      "\n",
      "  TEMPO_INCLUSÃO_SISTEMA  Dias DATA_HORA_BOLETIM_y  SEQ_VEICULO  \\\n",
      "0            0,013194444     0    01/01/2019 22:30            2   \n",
      "1            0,013194444     0    01/01/2019 22:30            1   \n",
      "2                  0,025     0    12/06/2019 22:07            2   \n",
      "3                  0,025     0    12/06/2019 22:07            1   \n",
      "4            0,047222222     0    14/06/2019 07:40            1   \n",
      "\n",
      "   COD_CATEGORIA  COD_ESPECIE  COD_SITUACAO  COD_TIPO_SOCORRO  \n",
      "0              3            4             1                 2  \n",
      "1              3            4             1                 0  \n",
      "2              3            6             1                 6  \n",
      "3              3            4             1                 3  \n",
      "4              3            6             1                 6  \n",
      "Index(['NUMERO_BOLETIM', 'DATA_HORA_BOLETIM_x', 'DATA_INCLUSAO',\n",
      "       'COD_TIPO_ACIDENTE', 'COD_TEMPO', 'COD_PAVIMENTO', 'COD_REGIONAL',\n",
      "       'COD_ORIGEM', 'COORDENADA_X', 'COORDENADA_Y',\n",
      "       'COD_VELOCIDADE PERMITIDA', 'COD_INDICADOR_FATALIDADE',\n",
      "       'TEMPO_INCLUSÃO_SISTEMA', 'Dias', 'DATA_HORA_BOLETIM_y', 'SEQ_VEICULO',\n",
      "       'COD_CATEGORIA', 'COD_ESPECIE', 'COD_SITUACAO', 'COD_TIPO_SOCORRO'],\n",
      "      dtype='object')\n"
     ]
    }
   ],
   "source": [
    "#União dos dois dataframes Ocorrencia e Veiculo\n",
    "dados = pd.merge(dados_ocorrencia, dados_veiculo, on='NUMERO_BOLETIM')\n",
    "print(dados.head())\n",
    "print(dados.columns)"
   ]
  },
  {
   "cell_type": "code",
   "execution_count": 7,
   "id": "69ae9711",
   "metadata": {},
   "outputs": [],
   "source": [
    "#Selecionando as variaveis de entrada e saida\n",
    "X = dados[['COD_ORIGEM', 'COD_CATEGORIA','COD_TIPO_SOCORRO']]\n",
    "y = dados[['COD_ESPECIE']]"
   ]
  },
  {
   "cell_type": "code",
   "execution_count": 8,
   "id": "83392b81",
   "metadata": {},
   "outputs": [],
   "source": [
    "#Padronização (ou normalização) dos dados em um array\n",
    "scaler = StandardScaler()\n",
    "X = scaler.fit_transform(X)"
   ]
  },
  {
   "cell_type": "code",
   "execution_count": 9,
   "id": "b11e4cb8",
   "metadata": {},
   "outputs": [],
   "source": [
    "# Dividindo os dados em conjuntos de treinamento e teste\n",
    "X_treinamento, X_teste, y_treinamento, y_teste = train_test_split(X, y, test_size=0.2, random_state=0)"
   ]
  },
  {
   "cell_type": "code",
   "execution_count": 10,
   "id": "c220c285",
   "metadata": {},
   "outputs": [
    {
     "data": {
      "text/html": [
       "<style>#sk-container-id-1 {color: black;background-color: white;}#sk-container-id-1 pre{padding: 0;}#sk-container-id-1 div.sk-toggleable {background-color: white;}#sk-container-id-1 label.sk-toggleable__label {cursor: pointer;display: block;width: 100%;margin-bottom: 0;padding: 0.3em;box-sizing: border-box;text-align: center;}#sk-container-id-1 label.sk-toggleable__label-arrow:before {content: \"▸\";float: left;margin-right: 0.25em;color: #696969;}#sk-container-id-1 label.sk-toggleable__label-arrow:hover:before {color: black;}#sk-container-id-1 div.sk-estimator:hover label.sk-toggleable__label-arrow:before {color: black;}#sk-container-id-1 div.sk-toggleable__content {max-height: 0;max-width: 0;overflow: hidden;text-align: left;background-color: #f0f8ff;}#sk-container-id-1 div.sk-toggleable__content pre {margin: 0.2em;color: black;border-radius: 0.25em;background-color: #f0f8ff;}#sk-container-id-1 input.sk-toggleable__control:checked~div.sk-toggleable__content {max-height: 200px;max-width: 100%;overflow: auto;}#sk-container-id-1 input.sk-toggleable__control:checked~label.sk-toggleable__label-arrow:before {content: \"▾\";}#sk-container-id-1 div.sk-estimator input.sk-toggleable__control:checked~label.sk-toggleable__label {background-color: #d4ebff;}#sk-container-id-1 div.sk-label input.sk-toggleable__control:checked~label.sk-toggleable__label {background-color: #d4ebff;}#sk-container-id-1 input.sk-hidden--visually {border: 0;clip: rect(1px 1px 1px 1px);clip: rect(1px, 1px, 1px, 1px);height: 1px;margin: -1px;overflow: hidden;padding: 0;position: absolute;width: 1px;}#sk-container-id-1 div.sk-estimator {font-family: monospace;background-color: #f0f8ff;border: 1px dotted black;border-radius: 0.25em;box-sizing: border-box;margin-bottom: 0.5em;}#sk-container-id-1 div.sk-estimator:hover {background-color: #d4ebff;}#sk-container-id-1 div.sk-parallel-item::after {content: \"\";width: 100%;border-bottom: 1px solid gray;flex-grow: 1;}#sk-container-id-1 div.sk-label:hover label.sk-toggleable__label {background-color: #d4ebff;}#sk-container-id-1 div.sk-serial::before {content: \"\";position: absolute;border-left: 1px solid gray;box-sizing: border-box;top: 0;bottom: 0;left: 50%;z-index: 0;}#sk-container-id-1 div.sk-serial {display: flex;flex-direction: column;align-items: center;background-color: white;padding-right: 0.2em;padding-left: 0.2em;position: relative;}#sk-container-id-1 div.sk-item {position: relative;z-index: 1;}#sk-container-id-1 div.sk-parallel {display: flex;align-items: stretch;justify-content: center;background-color: white;position: relative;}#sk-container-id-1 div.sk-item::before, #sk-container-id-1 div.sk-parallel-item::before {content: \"\";position: absolute;border-left: 1px solid gray;box-sizing: border-box;top: 0;bottom: 0;left: 50%;z-index: -1;}#sk-container-id-1 div.sk-parallel-item {display: flex;flex-direction: column;z-index: 1;position: relative;background-color: white;}#sk-container-id-1 div.sk-parallel-item:first-child::after {align-self: flex-end;width: 50%;}#sk-container-id-1 div.sk-parallel-item:last-child::after {align-self: flex-start;width: 50%;}#sk-container-id-1 div.sk-parallel-item:only-child::after {width: 0;}#sk-container-id-1 div.sk-dashed-wrapped {border: 1px dashed gray;margin: 0 0.4em 0.5em 0.4em;box-sizing: border-box;padding-bottom: 0.4em;background-color: white;}#sk-container-id-1 div.sk-label label {font-family: monospace;font-weight: bold;display: inline-block;line-height: 1.2em;}#sk-container-id-1 div.sk-label-container {text-align: center;}#sk-container-id-1 div.sk-container {/* jupyter's `normalize.less` sets `[hidden] { display: none; }` but bootstrap.min.css set `[hidden] { display: none !important; }` so we also need the `!important` here to be able to override the default hidden behavior on the sphinx rendered scikit-learn.org. See: https://github.com/scikit-learn/scikit-learn/issues/21755 */display: inline-block !important;position: relative;}#sk-container-id-1 div.sk-text-repr-fallback {display: none;}</style><div id=\"sk-container-id-1\" class=\"sk-top-container\"><div class=\"sk-text-repr-fallback\"><pre>DecisionTreeClassifier()</pre><b>In a Jupyter environment, please rerun this cell to show the HTML representation or trust the notebook. <br />On GitHub, the HTML representation is unable to render, please try loading this page with nbviewer.org.</b></div><div class=\"sk-container\" hidden><div class=\"sk-item\"><div class=\"sk-estimator sk-toggleable\"><input class=\"sk-toggleable__control sk-hidden--visually\" id=\"sk-estimator-id-1\" type=\"checkbox\" checked><label for=\"sk-estimator-id-1\" class=\"sk-toggleable__label sk-toggleable__label-arrow\">DecisionTreeClassifier</label><div class=\"sk-toggleable__content\"><pre>DecisionTreeClassifier()</pre></div></div></div></div></div>"
      ],
      "text/plain": [
       "DecisionTreeClassifier()"
      ]
     },
     "execution_count": 10,
     "metadata": {},
     "output_type": "execute_result"
    }
   ],
   "source": [
    "# Treinando o modelo de árvore de decisão\n",
    "modelo = DecisionTreeClassifier()\n",
    "modelo.fit(X_treinamento, y_treinamento)"
   ]
  },
  {
   "cell_type": "code",
   "execution_count": 11,
   "id": "a38eefbc",
   "metadata": {},
   "outputs": [
    {
     "name": "stdout",
     "output_type": "stream",
     "text": [
      "A acurácia do modelo de classificação de arvore de decisão é de 78.66%\n"
     ]
    }
   ],
   "source": [
    "# Fazendo as previsões e avaliando a acurácia do modelo\n",
    "y_pred = modelo.predict(X_teste)\n",
    "acuracia = accuracy_score(y_teste, y_pred)\n",
    "\n",
    "print(f'A acurácia do modelo de classificação de arvore de decisão é de {acuracia*100:.2f}%')"
   ]
  },
  {
   "cell_type": "code",
   "execution_count": 12,
   "id": "e490cfc5",
   "metadata": {},
   "outputs": [],
   "source": [
    "#Criando a matriz de confusão\n",
    "conf_mat = confusion_matrix(y_teste, y_pred)"
   ]
  },
  {
   "cell_type": "code",
   "execution_count": 13,
   "id": "0abc0852",
   "metadata": {},
   "outputs": [
    {
     "data": {
      "image/png": "[encoded data removed]",
      "text/plain": [
       "<Figure size 720x720 with 2 Axes>"
      ]
     },
     "metadata": {
      "needs_background": "light"
     },
     "output_type": "display_data"
    }
   ],
   "source": [
    "#Fazendo um gráfico par a matriz de confusão\n",
    "fig, ax = plt.subplots(figsize=(10, 10))\n",
    "im = ax.imshow(conf_mat, interpolation='nearest', cmap=plt.cm.Blues)\n",
    "ax.set(xticks=np.arange(conf_mat.shape[1]),\n",
    "       yticks=np.arange(conf_mat.shape[0]),\n",
    "       xticklabels=np.arange(22),\n",
    "       yticklabels=np.arange(22),\n",
    "       title='Matriz de confusão',\n",
    "       ylabel='Real',\n",
    "       xlabel='Predito')\n",
    "plt.setp(ax.get_xticklabels(), rotation=45, ha=\"right\",\n",
    "         rotation_mode=\"anchor\")\n",
    "\n",
    "#Adiciona a barra de cores\n",
    "plt.colorbar(im)\n",
    "\n",
    "#Exibe o gráfico\n",
    "plt.show()"
   ]
  },
  {
   "cell_type": "code",
   "execution_count": 14,
   "id": "bfb866e1",
   "metadata": {},
   "outputs": [],
   "source": [
    "#Inserção de dados para teste\n",
    "#ORIGEM: 0- NI; 1- POLICIA MILITAR; 2- POLICIA CIVIL\n",
    "#CATEGORIA: 0- NI; 1- OFICIAL; 2- MISSAO DIPLOMATICA; 3- PARTICULAR; 4- ALUGUEL; 5- APRENDIZADO\n",
    "#TIPO SOCORRO: 0- NI; 1- VEICULO ENVOLVIDO; 2- VIATURA PMMG; 3- AMBULANCIA; 4- TERCEIROS; 5- DISPENSOU ATENDIMENTO; 6- NÃO SE APLICA\n",
    "novos_dados = pd.DataFrame({'COD_ORIGEM': [1,1,2], 'COD_CATEGORIA': [3,4,3],'COD_TIPO_SOCORRO': [5,6,1]})"
   ]
  },
  {
   "cell_type": "code",
   "execution_count": 15,
   "id": "69c29221",
   "metadata": {},
   "outputs": [],
   "source": [
    "#Faz o tratamento de padronização nos novos dados\n",
    "novos_dados_norm = scaler.transform(novos_dados)"
   ]
  },
  {
   "cell_type": "code",
   "execution_count": 16,
   "id": "b44eeaf6",
   "metadata": {
    "scrolled": true
   },
   "outputs": [
    {
     "name": "stdout",
     "output_type": "stream",
     "text": [
      "[4 8 4]\n"
     ]
    }
   ],
   "source": [
    "#Gera a previsão e imprime na tela\n",
    "#ESPECIE: 0-NI; 4- MOTOCICLETA; 6- AUTOMOVEL; 8 - ONIBUS; 12- CAMIONETA; 13- CAMINHAO; 26- CAMINHONETE\n",
    "previsoes = modelo.predict(novos_dados_norm)\n",
    "print(previsoes)"
   ]
  },
  {
   "cell_type": "code",
   "execution_count": null,
   "id": "607b0a9b",
   "metadata": {},
   "outputs": [],
   "source": []
  },
  {
   "cell_type": "code",
   "execution_count": null,
   "id": "48ea898b",
   "metadata": {},
   "outputs": [],
   "source": []
  }
 ],
 "metadata": {
  "kernelspec": {
   "display_name": "Python 3 (ipykernel)",
   "language": "python",
   "name": "python3"
  },
  "language_info": {
   "codemirror_mode": {
    "name": "ipython",
    "version": 3
   },
   "file_extension": ".py",
   "mimetype": "text/x-python",
   "name": "python",
   "nbconvert_exporter": "python",
   "pygments_lexer": "ipython3",
   "version": "3.9.7"
  }
 },
 "nbformat": 4,
 "nbformat_minor": 5
}
